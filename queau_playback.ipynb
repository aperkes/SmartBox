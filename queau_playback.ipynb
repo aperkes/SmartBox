{
 "cells": [
  {
   "cell_type": "code",
   "execution_count": null,
   "metadata": {},
   "outputs": [],
   "source": [
    "## Quick script to queau up the next song for playback, play/record, and log the fact that it plays\n",
    "## Thrown together by Ammon Perkes for work in Schmidt Lab\n",
    "# contact perkes.ammon@gmail.com for questions\n",
    "\n",
    "import subprocess\n",
    "\n",
    "def get_song(log_name = 'song_log.txt'):\n",
    "    #global LOGS\n",
    "    #logs = LOGS\n",
    "    #bird_name = 0\n",
    "    #log_name = logs[cam_id]\n",
    "    tmp_name = 'tmp_' + log_name\n",
    "    r_log = open(log_name,'r')\n",
    "    tmp_log = open(tmp_name,'w')\n",
    "    #NOTE: this could be cleaner\n",
    "    unplayed = 1\n",
    "    ## Read through the file and find the first unplayed song\n",
    "    # Write each song to the tmp_file, and then copy it over\n",
    "    for line in r_log:\n",
    "        split_line = line.strip().split(',')\n",
    "        if split_line[-1] != '0':\n",
    "            tmp_log.write(line)\n",
    "        elif split_line[-1] == '0' and unplayed:\n",
    "            #print 'I found a line!'\n",
    "            bird_name = split_line[1]\n",
    "            split_line[-1] = str(datetime.datetime.now())\n",
    "            tmp_log.write(\",\".join(split_line) + '\\n')\n",
    "            unplayed = 0\n",
    "        else:\n",
    "            tmp_log.write(line)\n",
    "    #print 'No more unplayed songs found'\n",
    "    r_log.close()\n",
    "    tmp_log.close()\n",
    "    # Save tmp_log as r_log\n",
    "    shutil.move(tmp_name,log_name)\n",
    "    #os.remove(tmp_name)\n",
    "    song_name = bird_name + side  \n",
    "    return song_name\n",
    "\n",
    "def run_bash():\n",
    "    song_path = '/home/bird/Documents/birds/src/bird_recording/src/playback_songs/'\n",
    "    bash_command = '/home/bird/Documents/birds/src/bird_recording/src/play_record_process.bash'\n",
    "    time = '20'\n",
    "    host = 'birdview-2'\n",
    "    high_quality = 'True'\n",
    "    audio_delay = '0'\n",
    "    song_file = song_path + get_song()\n",
    "    return_code = subprocess.call([bash_command, time, host, high_quality, audio_delay, song_file])\n",
    "    \n",
    "if __name__ == '__main__':\n",
    "    run_bash()"
   ]
  }
 ],
 "metadata": {
  "kernelspec": {
   "display_name": "Python 3",
   "language": "python",
   "name": "python3"
  },
  "language_info": {
   "codemirror_mode": {
    "name": "ipython",
    "version": 3
   },
   "file_extension": ".py",
   "mimetype": "text/x-python",
   "name": "python",
   "nbconvert_exporter": "python",
   "pygments_lexer": "ipython3",
   "version": "3.6.5"
  }
 },
 "nbformat": 4,
 "nbformat_minor": 2
}
